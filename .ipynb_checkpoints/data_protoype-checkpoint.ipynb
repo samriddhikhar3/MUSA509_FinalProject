{
 "cells": [
  {
   "cell_type": "code",
   "execution_count": 2,
   "id": "69ac87cc-4ec5-4795-a642-9b7bbe6d06ea",
   "metadata": {},
   "outputs": [],
   "source": [
    "from faker import Faker\n",
    "import csv\n",
    "import random\n",
    "from datetime import datetime, timedelta\n",
    "\n",
    "fake = Faker()\n",
    "\n",
    "# Specify latitude and longitude ranges for the campus area\n",
    "latitude_range = (39.9472, 39.9566)\n",
    "longitude_range = (-75.1911, -75.2033)\n",
    "\n",
    "# Generate fake user data\n",
    "users = []\n",
    "\n",
    "for user_id in range(1, 41):  # Generate 40 unique user IDs\n",
    "    interests = random.sample(['Data Science', 'Art', 'Networking', 'Consultancy'], 3)  # Randomly select 3 unique interests for each user\n",
    "    \n",
    "    for _ in range(random.randint(5, 6)):  # Generate 5-6 timestamps for each user\n",
    "        timestamp = fake.date_time_between(start_date='-1d', end_date='now')  # Generate timestamp within the last day\n",
    "        latitude = round(random.uniform(latitude_range[0], latitude_range[1]), 6)\n",
    "        longitude = round(random.uniform(longitude_range[0], longitude_range[1]), 6)\n",
    "        \n",
    "        user_data = {\n",
    "            'UserID': user_id,\n",
    "            'Timestamp': timestamp.strftime('%Y-%m-%d %H:%M:%S'),\n",
    "            'Latitude': latitude,\n",
    "            'Longitude': longitude,\n",
    "            'Interest1': interests[0],\n",
    "            'Interest2': interests[1],\n",
    "            'Interest3': interests[2]\n",
    "        }\n",
    "        \n",
    "        users.append(user_data)\n",
    "\n",
    "# Write fake data to CSV file\n",
    "with open('fake_users.csv', 'w', newline='') as csvfile:\n",
    "    fieldnames = ['UserID', 'Timestamp', 'Latitude', 'Longitude', 'Interest1', 'Interest2', 'Interest3']\n",
    "    writer = csv.DictWriter(csvfile, fieldnames=fieldnames)\n",
    "    writer.writeheader()\n",
    "    for user in users:\n",
    "        writer.writerow(user)\n"
   ]
  },
  {
   "cell_type": "code",
   "execution_count": null,
   "id": "4d0785f7-9b14-4fc0-8962-710d7150b52f",
   "metadata": {},
   "outputs": [],
   "source": []
  }
 ],
 "metadata": {
  "kernelspec": {
   "display_name": "Python 3 (ipykernel)",
   "language": "python",
   "name": "python3"
  },
  "language_info": {
   "codemirror_mode": {
    "name": "ipython",
    "version": 3
   },
   "file_extension": ".py",
   "mimetype": "text/x-python",
   "name": "python",
   "nbconvert_exporter": "python",
   "pygments_lexer": "ipython3",
   "version": "3.9.18"
  }
 },
 "nbformat": 4,
 "nbformat_minor": 5
}
